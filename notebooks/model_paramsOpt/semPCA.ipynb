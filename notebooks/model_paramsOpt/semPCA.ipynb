{
 "cells": [
  {
   "attachments": {},
   "cell_type": "markdown",
   "metadata": {},
   "source": [
    "# Base"
   ]
  },
  {
   "cell_type": "code",
   "execution_count": null,
   "metadata": {},
   "outputs": [],
   "source": [
    "%reload_kedro"
   ]
  },
  {
   "cell_type": "code",
   "execution_count": null,
   "metadata": {},
   "outputs": [],
   "source": [
    "from itaete_buy_prop.utils import optimize_params\n",
    "from sklearn.linear_model import LogisticRegression\n",
    "import numpy as np\n",
    "from pprint import pprint"
   ]
  },
  {
   "cell_type": "code",
   "execution_count": null,
   "metadata": {},
   "outputs": [],
   "source": [
    "import warnings\n",
    "from sklearn.exceptions import DataConversionWarning\n",
    "\n",
    "warnings.filterwarnings(action=\"ignore\", category=DataConversionWarning)"
   ]
  },
  {
   "cell_type": "code",
   "execution_count": null,
   "metadata": {},
   "outputs": [],
   "source": [
    "X_train = catalog.load(\"master_table_treino_ftes\")\n",
    "y_train = catalog.load(\"master_table_treino_tgt\")\n",
    "\n",
    "params = catalog.load(\"params:logreg_params\")"
   ]
  },
  {
   "cell_type": "code",
   "execution_count": null,
   "metadata": {},
   "outputs": [],
   "source": [
    "logreg_default_params = params[\"model_params_padrao\"]\n",
    "model = LogisticRegression(**logreg_default_params)"
   ]
  },
  {
   "attachments": {},
   "cell_type": "markdown",
   "metadata": {},
   "source": [
    "# Otimização: Round 1\n",
    "\n",
    "## Buscar pela melhor combinação de parâmetros sem restrição"
   ]
  },
  {
   "cell_type": "code",
   "execution_count": null,
   "metadata": {},
   "outputs": [],
   "source": [
    "# grid\n",
    "C = np.logspace(-4, 4, 50)\n",
    "penalty = [\"l1\", \"l2\", \"elasticnet\"]\n",
    "fit_intercept = [True, False]\n",
    "tol = [1e-3, 1e-4, 1e-5]\n",
    "class_weight = [\"balanced\", None]\n",
    "max_iter = [100, 200, 400]\n",
    "solver = [\"saga\"]\n",
    "random_state = [0]\n",
    "\n",
    "model_grid = {\n",
    "    \"C\": C,\n",
    "    \"penalty\": penalty,\n",
    "    \"fit_intercept\": fit_intercept,\n",
    "    \"tol\": tol,\n",
    "    \"class_weight\": class_weight,\n",
    "    \"solver\": solver\n",
    "}"
   ]
  },
  {
   "cell_type": "code",
   "execution_count": null,
   "metadata": {},
   "outputs": [],
   "source": [
    "params_opt = optimize_params(model=model,\n",
    "                            grid=model_grid,\n",
    "                            X_train=X_train,\n",
    "                            y_train=y_train,\n",
    "                            n_splits=10,\n",
    "                            n_repeats=3)\n",
    "best_params = params_opt.best_params_"
   ]
  },
  {
   "cell_type": "code",
   "execution_count": null,
   "metadata": {},
   "outputs": [],
   "source": [
    "pprint(best_params)"
   ]
  },
  {
   "attachments": {},
   "cell_type": "markdown",
   "metadata": {},
   "source": [
    "## Otimização: Round 1.1\n",
    "\n",
    "### Dado os parâmetros da Otimização Round 1, afunilar para encontrar outros parâmetros"
   ]
  },
  {
   "cell_type": "code",
   "execution_count": null,
   "metadata": {},
   "outputs": [],
   "source": [
    "# grid\n",
    "C = [339.3221771895323]\n",
    "penalty = [\"l1\"]\n",
    "fit_intercept = [True]\n",
    "class_weight = [None]\n",
    "tol = [1e-5]\n",
    "random_state = [0]\n",
    "\n",
    "max_iter = [100, 200, 400]\n",
    "solver = [\"saga\", \"liblinear\"]\n",
    "\n",
    "model_grid = {\n",
    "    \"C\": C,\n",
    "    \"penalty\": penalty,\n",
    "    \"fit_intercept\": fit_intercept,\n",
    "    \"tol\": tol,\n",
    "    \"class_weight\": class_weight,\n",
    "    \"solver\": solver\n",
    "}"
   ]
  },
  {
   "cell_type": "code",
   "execution_count": null,
   "metadata": {},
   "outputs": [],
   "source": [
    "params_opt = optimize_params(model=model,\n",
    "                            grid=model_grid,\n",
    "                            X_train=X_train,\n",
    "                            y_train=y_train,\n",
    "                            n_splits=10,\n",
    "                            n_repeats=3)\n",
    "best_params = params_opt.best_params_"
   ]
  },
  {
   "cell_type": "code",
   "execution_count": null,
   "metadata": {},
   "outputs": [],
   "source": [
    "pprint(best_params)"
   ]
  },
  {
   "attachments": {},
   "cell_type": "markdown",
   "metadata": {},
   "source": [
    "# Otimização: Round 2"
   ]
  },
  {
   "cell_type": "code",
   "execution_count": null,
   "metadata": {},
   "outputs": [],
   "source": [
    "# grid\n",
    "C = np.logspace(-4, 4, 50)\n",
    "penalty = [\"l2\"]\n",
    "fit_intercept = [True]\n",
    "tol = [1e-3, 1e-4, 1e-5]\n",
    "class_weight = [\"balanced\", None]\n",
    "max_iter = [100, 200]\n",
    "solver = [\"saga\", \"lbfgs\", \"liblinear\", \"newton-cg\", \"newton-cholesky\", \"sag\"]\n",
    "random_state = [0]\n",
    "\n",
    "model_grid = {\n",
    "    \"C\": C,\n",
    "    \"penalty\": penalty,\n",
    "    \"fit_intercept\": fit_intercept,\n",
    "    \"tol\": tol,\n",
    "    \"class_weight\": class_weight,\n",
    "    \"solver\": solver\n",
    "}"
   ]
  },
  {
   "cell_type": "code",
   "execution_count": null,
   "metadata": {},
   "outputs": [],
   "source": [
    "params_opt = optimize_params(model=model,\n",
    "                            grid=model_grid,\n",
    "                            X_train=X_train,\n",
    "                            y_train=y_train,\n",
    "                            n_splits=10,\n",
    "                            n_repeats=3)\n",
    "best_params = params_opt.best_params_"
   ]
  },
  {
   "cell_type": "code",
   "execution_count": null,
   "metadata": {},
   "outputs": [],
   "source": [
    "pprint(best_params)"
   ]
  },
  {
   "cell_type": "code",
   "execution_count": null,
   "metadata": {},
   "outputs": [],
   "source": []
  }
 ],
 "metadata": {
  "kernelspec": {
   "display_name": "Kedro (itaete_buy_prop)",
   "language": "python",
   "name": "kedro_itaete_buy_prop"
  },
  "language_info": {
   "codemirror_mode": {
    "name": "ipython",
    "version": 3
   },
   "file_extension": ".py",
   "mimetype": "text/x-python",
   "name": "python",
   "nbconvert_exporter": "python",
   "pygments_lexer": "ipython3",
   "version": "3.10.12"
  },
  "orig_nbformat": 4
 },
 "nbformat": 4,
 "nbformat_minor": 2
}
