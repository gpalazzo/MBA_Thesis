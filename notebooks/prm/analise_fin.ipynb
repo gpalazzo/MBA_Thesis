{
 "cells": [
  {
   "cell_type": "code",
   "execution_count": 1,
   "metadata": {},
   "outputs": [
    {
     "name": "stdout",
     "output_type": "stream",
     "text": [
      "2023-07-22 15:51:25,190 - kedro.extras.extensions.ipython - INFO - No path argument was provided. Using: /Users/gpalazzo/Desktop/dev/mba_Otavio\n",
      "2023-07-22 15:51:25,492 - kedro.framework.session.store - INFO - `read()` not implemented for `BaseSessionStore`. Assuming empty store.\n",
      "2023-07-22 15:51:25,608 - kedro.extras.extensions.ipython - INFO - ** Kedro project itaete_buy_prop\n",
      "2023-07-22 15:51:25,610 - kedro.extras.extensions.ipython - INFO - Defined global variable `context`, `session`, `catalog` and `pipelines`\n",
      "2023-07-22 15:51:25,620 - kedro.extras.extensions.ipython - INFO - Registered line magic `run_viz`\n"
     ]
    }
   ],
   "source": [
    "%reload_kedro"
   ]
  },
  {
   "cell_type": "code",
   "execution_count": 2,
   "metadata": {},
   "outputs": [
    {
     "name": "stdout",
     "output_type": "stream",
     "text": [
      "2023-07-22 15:51:35,150 - kedro.io.data_catalog - INFO - Loading data from `prm_analise_fin` (ParquetDataSet)...\n"
     ]
    }
   ],
   "source": [
    "df = catalog.load(\"prm_analise_fin\")"
   ]
  },
  {
   "cell_type": "code",
   "execution_count": 3,
   "metadata": {},
   "outputs": [
    {
     "data": {
      "text/html": [
       "<div>\n",
       "<style scoped>\n",
       "    .dataframe tbody tr th:only-of-type {\n",
       "        vertical-align: middle;\n",
       "    }\n",
       "\n",
       "    .dataframe tbody tr th {\n",
       "        vertical-align: top;\n",
       "    }\n",
       "\n",
       "    .dataframe thead th {\n",
       "        text-align: right;\n",
       "    }\n",
       "</style>\n",
       "<table border=\"1\" class=\"dataframe\">\n",
       "  <thead>\n",
       "    <tr style=\"text-align: right;\">\n",
       "      <th></th>\n",
       "      <th>id_cliente</th>\n",
       "      <th>potencial_do_cliente</th>\n",
       "      <th>linha_credito</th>\n",
       "      <th>valor_total</th>\n",
       "      <th>ref_date</th>\n",
       "    </tr>\n",
       "  </thead>\n",
       "  <tbody>\n",
       "    <tr>\n",
       "      <th>0</th>\n",
       "      <td>2082</td>\n",
       "      <td>a</td>\n",
       "      <td>recurso_proprio</td>\n",
       "      <td>21500.0</td>\n",
       "      <td>2021-12-02</td>\n",
       "    </tr>\n",
       "    <tr>\n",
       "      <th>1</th>\n",
       "      <td>2082</td>\n",
       "      <td>a</td>\n",
       "      <td>recurso_proprio</td>\n",
       "      <td>50000.0</td>\n",
       "      <td>2020-07-13</td>\n",
       "    </tr>\n",
       "    <tr>\n",
       "      <th>2</th>\n",
       "      <td>2082</td>\n",
       "      <td>a</td>\n",
       "      <td>recurso_proprio</td>\n",
       "      <td>50000.0</td>\n",
       "      <td>2020-07-13</td>\n",
       "    </tr>\n",
       "    <tr>\n",
       "      <th>3</th>\n",
       "      <td>2082</td>\n",
       "      <td>a</td>\n",
       "      <td>moderfrota</td>\n",
       "      <td>1910000.0</td>\n",
       "      <td>2023-05-05</td>\n",
       "    </tr>\n",
       "    <tr>\n",
       "      <th>4</th>\n",
       "      <td>2082</td>\n",
       "      <td>a</td>\n",
       "      <td>finame</td>\n",
       "      <td>1634442.0</td>\n",
       "      <td>2022-06-15</td>\n",
       "    </tr>\n",
       "    <tr>\n",
       "      <th>...</th>\n",
       "      <td>...</td>\n",
       "      <td>...</td>\n",
       "      <td>...</td>\n",
       "      <td>...</td>\n",
       "      <td>...</td>\n",
       "    </tr>\n",
       "    <tr>\n",
       "      <th>1534</th>\n",
       "      <td>6062</td>\n",
       "      <td>pan</td>\n",
       "      <td>None</td>\n",
       "      <td>87500.0</td>\n",
       "      <td>2015-08-21</td>\n",
       "    </tr>\n",
       "    <tr>\n",
       "      <th>1540</th>\n",
       "      <td>15812</td>\n",
       "      <td>c</td>\n",
       "      <td>moderfrota</td>\n",
       "      <td>105000.0</td>\n",
       "      <td>2016-11-10</td>\n",
       "    </tr>\n",
       "    <tr>\n",
       "      <th>1549</th>\n",
       "      <td>53</td>\n",
       "      <td>c</td>\n",
       "      <td>None</td>\n",
       "      <td>102000.0</td>\n",
       "      <td>2015-05-13</td>\n",
       "    </tr>\n",
       "    <tr>\n",
       "      <th>1582</th>\n",
       "      <td>8336</td>\n",
       "      <td>c</td>\n",
       "      <td>None</td>\n",
       "      <td>929468.0</td>\n",
       "      <td>2014-05-01</td>\n",
       "    </tr>\n",
       "    <tr>\n",
       "      <th>1593</th>\n",
       "      <td>7300</td>\n",
       "      <td>None</td>\n",
       "      <td>pronaf</td>\n",
       "      <td>145000.0</td>\n",
       "      <td>2019-04-30</td>\n",
       "    </tr>\n",
       "  </tbody>\n",
       "</table>\n",
       "<p>765 rows × 5 columns</p>\n",
       "</div>"
      ],
      "text/plain": [
       "      id_cliente potencial_do_cliente    linha_credito  valor_total  \\\n",
       "0           2082                    a  recurso_proprio      21500.0   \n",
       "1           2082                    a  recurso_proprio      50000.0   \n",
       "2           2082                    a  recurso_proprio      50000.0   \n",
       "3           2082                    a       moderfrota    1910000.0   \n",
       "4           2082                    a           finame    1634442.0   \n",
       "...          ...                  ...              ...          ...   \n",
       "1534        6062                  pan             None      87500.0   \n",
       "1540       15812                    c       moderfrota     105000.0   \n",
       "1549          53                    c             None     102000.0   \n",
       "1582        8336                    c             None     929468.0   \n",
       "1593        7300                 None           pronaf     145000.0   \n",
       "\n",
       "        ref_date  \n",
       "0     2021-12-02  \n",
       "1     2020-07-13  \n",
       "2     2020-07-13  \n",
       "3     2023-05-05  \n",
       "4     2022-06-15  \n",
       "...          ...  \n",
       "1534  2015-08-21  \n",
       "1540  2016-11-10  \n",
       "1549  2015-05-13  \n",
       "1582  2014-05-01  \n",
       "1593  2019-04-30  \n",
       "\n",
       "[765 rows x 5 columns]"
      ]
     },
     "execution_count": 3,
     "metadata": {},
     "output_type": "execute_result"
    }
   ],
   "source": [
    "df"
   ]
  },
  {
   "cell_type": "code",
   "execution_count": null,
   "metadata": {},
   "outputs": [],
   "source": []
  }
 ],
 "metadata": {
  "kernelspec": {
   "display_name": "Kedro (itaete_buy_prop)",
   "language": "python",
   "name": "kedro_itaete_buy_prop"
  },
  "language_info": {
   "codemirror_mode": {
    "name": "ipython",
    "version": 3
   },
   "file_extension": ".py",
   "mimetype": "text/x-python",
   "name": "python",
   "nbconvert_exporter": "python",
   "pygments_lexer": "ipython3",
   "version": "3.10.12"
  },
  "orig_nbformat": 4
 },
 "nbformat": 4,
 "nbformat_minor": 2
}
