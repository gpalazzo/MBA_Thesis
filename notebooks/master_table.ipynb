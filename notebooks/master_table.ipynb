{
 "cells": [
  {
   "cell_type": "code",
   "execution_count": 10,
   "metadata": {},
   "outputs": [
    {
     "name": "stdout",
     "output_type": "stream",
     "text": [
      "2023-07-26 09:21:33,635 - kedro.extras.extensions.ipython - INFO - No path argument was provided. Using: /Users/gpalazzo/Desktop/dev/mba_Otavio\n",
      "2023-07-26 09:21:33,759 - kedro.framework.session.store - INFO - `read()` not implemented for `BaseSessionStore`. Assuming empty store.\n",
      "2023-07-26 09:21:33,863 - kedro.extras.extensions.ipython - INFO - ** Kedro project itaete_buy_prop\n",
      "2023-07-26 09:21:33,863 - kedro.extras.extensions.ipython - INFO - Defined global variable `context`, `session`, `catalog` and `pipelines`\n",
      "2023-07-26 09:21:33,870 - kedro.extras.extensions.ipython - INFO - Registered line magic `run_viz`\n"
     ]
    }
   ],
   "source": [
    "%reload_kedro"
   ]
  },
  {
   "cell_type": "code",
   "execution_count": 11,
   "metadata": {},
   "outputs": [
    {
     "name": "stdout",
     "output_type": "stream",
     "text": [
      "2023-07-26 09:21:34,585 - kedro.io.data_catalog - INFO - Loading data from `master_table` (ParquetDataSet)...\n"
     ]
    }
   ],
   "source": [
    "mt = catalog.load(\"master_table\")"
   ]
  },
  {
   "cell_type": "code",
   "execution_count": 12,
   "metadata": {},
   "outputs": [],
   "source": [
    "JOIN_COLS = [\"data_alvo\", \"data_inferior\"]"
   ]
  },
  {
   "cell_type": "code",
   "execution_count": 13,
   "metadata": {},
   "outputs": [],
   "source": [
    "mt = mt.reset_index()"
   ]
  },
  {
   "cell_type": "code",
   "execution_count": 14,
   "metadata": {},
   "outputs": [
    {
     "ename": "AssertionError",
     "evalue": "MT duplicada, revisar",
     "output_type": "error",
     "traceback": [
      "\u001b[0;31m---------------------------------------------------------------------------\u001b[0m",
      "\u001b[0;31mAssertionError\u001b[0m                            Traceback (most recent call last)",
      "Cell \u001b[0;32mIn[14], line 1\u001b[0m\n\u001b[0;32m----> 1\u001b[0m \u001b[39massert\u001b[39;00m mt\u001b[39m.\u001b[39mshape[\u001b[39m0\u001b[39m] \u001b[39m==\u001b[39m mt[JOIN_COLS]\u001b[39m.\u001b[39mdrop_duplicates()\u001b[39m.\u001b[39mshape[\u001b[39m0\u001b[39m], \\\n\u001b[1;32m      2\u001b[0m     \u001b[39m\"\u001b[39m\u001b[39mMT duplicada, revisar\u001b[39m\u001b[39m\"\u001b[39m\n",
      "\u001b[0;31mAssertionError\u001b[0m: MT duplicada, revisar"
     ]
    }
   ],
   "source": [
    "assert mt.shape[0] == mt[JOIN_COLS].drop_duplicates().shape[0], \\\n",
    "    \"MT duplicada, revisar\""
   ]
  },
  {
   "cell_type": "code",
   "execution_count": 16,
   "metadata": {},
   "outputs": [],
   "source": [
    "dupl_df = mt[mt.duplicated(subset=JOIN_COLS)]"
   ]
  },
  {
   "cell_type": "code",
   "execution_count": 17,
   "metadata": {},
   "outputs": [
    {
     "name": "stderr",
     "output_type": "stream",
     "text": [
      "/Users/gpalazzo/anaconda3/envs/mba/lib/python3.10/site-packages/pandas/core/algorithms.py:522: DeprecationWarning: np.find_common_type is deprecated.  Please use `np.result_type` or `np.promote_types`.\n",
      "See https://numpy.org/devdocs/release/1.25.0-notes.html and the docs for more information.  (Deprecated NumPy 1.25)\n",
      "  common = np.find_common_type([values.dtype, comps_array.dtype], [])\n"
     ]
    },
    {
     "data": {
      "text/html": [
       "<div>\n",
       "<style scoped>\n",
       "    .dataframe tbody tr th:only-of-type {\n",
       "        vertical-align: middle;\n",
       "    }\n",
       "\n",
       "    .dataframe tbody tr th {\n",
       "        vertical-align: top;\n",
       "    }\n",
       "\n",
       "    .dataframe thead th {\n",
       "        text-align: right;\n",
       "    }\n",
       "</style>\n",
       "<table border=\"1\" class=\"dataframe\">\n",
       "  <thead>\n",
       "    <tr style=\"text-align: right;\">\n",
       "      <th></th>\n",
       "      <th>data_alvo</th>\n",
       "      <th>data_inferior</th>\n",
       "      <th>id_cliente</th>\n",
       "      <th>label</th>\n",
       "      <th>tempo_medio_dias_compras</th>\n",
       "      <th>potencial_do_cliente__pan</th>\n",
       "      <th>linha_credito__recurso_proprio</th>\n",
       "      <th>valor_total_compras</th>\n",
       "      <th>dif_dias_ultima_compra</th>\n",
       "      <th>potencial_do_cliente__a</th>\n",
       "      <th>...</th>\n",
       "      <th>linha_credito__moderfrota</th>\n",
       "      <th>linha_credito__pronaf</th>\n",
       "      <th>linha_credito__pronamp</th>\n",
       "      <th>linha_credito__consorcio</th>\n",
       "      <th>potencial_do_cliente__b</th>\n",
       "      <th>potencial_do_cliente__c</th>\n",
       "      <th>linha_credito__pro_implemento</th>\n",
       "      <th>linha_credito__pro_trator</th>\n",
       "      <th>linha_credito__banco_john_deere</th>\n",
       "      <th>area_ha_somadas</th>\n",
       "    </tr>\n",
       "  </thead>\n",
       "  <tbody>\n",
       "    <tr>\n",
       "      <th>27</th>\n",
       "      <td>2021-06-25</td>\n",
       "      <td>2020-12-27</td>\n",
       "      <td>19073</td>\n",
       "      <td>1</td>\n",
       "      <td>0.0</td>\n",
       "      <td>1.0</td>\n",
       "      <td>0.0</td>\n",
       "      <td>168000.0</td>\n",
       "      <td>0</td>\n",
       "      <td>0.0</td>\n",
       "      <td>...</td>\n",
       "      <td>0.0</td>\n",
       "      <td>0.0</td>\n",
       "      <td>0.0</td>\n",
       "      <td>0.0</td>\n",
       "      <td>0.0</td>\n",
       "      <td>0.0</td>\n",
       "      <td>0.0</td>\n",
       "      <td>0.0</td>\n",
       "      <td>0.0</td>\n",
       "      <td>5.0</td>\n",
       "    </tr>\n",
       "    <tr>\n",
       "      <th>36</th>\n",
       "      <td>2021-06-25</td>\n",
       "      <td>2020-12-27</td>\n",
       "      <td>3779</td>\n",
       "      <td>0</td>\n",
       "      <td>12.0</td>\n",
       "      <td>0.0</td>\n",
       "      <td>0.0</td>\n",
       "      <td>1050000.0</td>\n",
       "      <td>71</td>\n",
       "      <td>3.0</td>\n",
       "      <td>...</td>\n",
       "      <td>1.0</td>\n",
       "      <td>0.0</td>\n",
       "      <td>0.0</td>\n",
       "      <td>0.0</td>\n",
       "      <td>0.0</td>\n",
       "      <td>0.0</td>\n",
       "      <td>0.0</td>\n",
       "      <td>0.0</td>\n",
       "      <td>0.0</td>\n",
       "      <td>980.0</td>\n",
       "    </tr>\n",
       "    <tr>\n",
       "      <th>40</th>\n",
       "      <td>2018-07-13</td>\n",
       "      <td>2018-01-14</td>\n",
       "      <td>30692</td>\n",
       "      <td>0</td>\n",
       "      <td>0.0</td>\n",
       "      <td>0.0</td>\n",
       "      <td>0.0</td>\n",
       "      <td>95000.0</td>\n",
       "      <td>71</td>\n",
       "      <td>0.0</td>\n",
       "      <td>...</td>\n",
       "      <td>1.0</td>\n",
       "      <td>0.0</td>\n",
       "      <td>0.0</td>\n",
       "      <td>0.0</td>\n",
       "      <td>1.0</td>\n",
       "      <td>0.0</td>\n",
       "      <td>0.0</td>\n",
       "      <td>0.0</td>\n",
       "      <td>0.0</td>\n",
       "      <td>45.0</td>\n",
       "    </tr>\n",
       "    <tr>\n",
       "      <th>42</th>\n",
       "      <td>2018-07-13</td>\n",
       "      <td>2018-01-14</td>\n",
       "      <td>32769</td>\n",
       "      <td>0</td>\n",
       "      <td>0.0</td>\n",
       "      <td>0.0</td>\n",
       "      <td>0.0</td>\n",
       "      <td>170000.0</td>\n",
       "      <td>71</td>\n",
       "      <td>0.0</td>\n",
       "      <td>...</td>\n",
       "      <td>1.0</td>\n",
       "      <td>0.0</td>\n",
       "      <td>0.0</td>\n",
       "      <td>0.0</td>\n",
       "      <td>0.0</td>\n",
       "      <td>1.0</td>\n",
       "      <td>0.0</td>\n",
       "      <td>0.0</td>\n",
       "      <td>0.0</td>\n",
       "      <td>13.0</td>\n",
       "    </tr>\n",
       "    <tr>\n",
       "      <th>43</th>\n",
       "      <td>2018-07-13</td>\n",
       "      <td>2018-01-14</td>\n",
       "      <td>5073</td>\n",
       "      <td>0</td>\n",
       "      <td>0.0</td>\n",
       "      <td>0.0</td>\n",
       "      <td>0.0</td>\n",
       "      <td>97000.0</td>\n",
       "      <td>71</td>\n",
       "      <td>0.0</td>\n",
       "      <td>...</td>\n",
       "      <td>1.0</td>\n",
       "      <td>0.0</td>\n",
       "      <td>0.0</td>\n",
       "      <td>0.0</td>\n",
       "      <td>0.0</td>\n",
       "      <td>1.0</td>\n",
       "      <td>0.0</td>\n",
       "      <td>0.0</td>\n",
       "      <td>0.0</td>\n",
       "      <td>0.0</td>\n",
       "    </tr>\n",
       "  </tbody>\n",
       "</table>\n",
       "<p>5 rows × 21 columns</p>\n",
       "</div>"
      ],
      "text/plain": [
       "     data_alvo data_inferior  id_cliente  label  tempo_medio_dias_compras  \\\n",
       "27  2021-06-25    2020-12-27       19073      1                       0.0   \n",
       "36  2021-06-25    2020-12-27        3779      0                      12.0   \n",
       "40  2018-07-13    2018-01-14       30692      0                       0.0   \n",
       "42  2018-07-13    2018-01-14       32769      0                       0.0   \n",
       "43  2018-07-13    2018-01-14        5073      0                       0.0   \n",
       "\n",
       "    potencial_do_cliente__pan  linha_credito__recurso_proprio  \\\n",
       "27                        1.0                             0.0   \n",
       "36                        0.0                             0.0   \n",
       "40                        0.0                             0.0   \n",
       "42                        0.0                             0.0   \n",
       "43                        0.0                             0.0   \n",
       "\n",
       "    valor_total_compras  dif_dias_ultima_compra  potencial_do_cliente__a  ...  \\\n",
       "27             168000.0                       0                      0.0  ...   \n",
       "36            1050000.0                      71                      3.0  ...   \n",
       "40              95000.0                      71                      0.0  ...   \n",
       "42             170000.0                      71                      0.0  ...   \n",
       "43              97000.0                      71                      0.0  ...   \n",
       "\n",
       "    linha_credito__moderfrota  linha_credito__pronaf  linha_credito__pronamp  \\\n",
       "27                        0.0                    0.0                     0.0   \n",
       "36                        1.0                    0.0                     0.0   \n",
       "40                        1.0                    0.0                     0.0   \n",
       "42                        1.0                    0.0                     0.0   \n",
       "43                        1.0                    0.0                     0.0   \n",
       "\n",
       "    linha_credito__consorcio  potencial_do_cliente__b  \\\n",
       "27                       0.0                      0.0   \n",
       "36                       0.0                      0.0   \n",
       "40                       0.0                      1.0   \n",
       "42                       0.0                      0.0   \n",
       "43                       0.0                      0.0   \n",
       "\n",
       "    potencial_do_cliente__c  linha_credito__pro_implemento  \\\n",
       "27                      0.0                            0.0   \n",
       "36                      0.0                            0.0   \n",
       "40                      0.0                            0.0   \n",
       "42                      1.0                            0.0   \n",
       "43                      1.0                            0.0   \n",
       "\n",
       "    linha_credito__pro_trator  linha_credito__banco_john_deere  \\\n",
       "27                        0.0                              0.0   \n",
       "36                        0.0                              0.0   \n",
       "40                        0.0                              0.0   \n",
       "42                        0.0                              0.0   \n",
       "43                        0.0                              0.0   \n",
       "\n",
       "    area_ha_somadas  \n",
       "27              5.0  \n",
       "36            980.0  \n",
       "40             45.0  \n",
       "42             13.0  \n",
       "43              0.0  \n",
       "\n",
       "[5 rows x 21 columns]"
      ]
     },
     "execution_count": 17,
     "metadata": {},
     "output_type": "execute_result"
    }
   ],
   "source": [
    "mt[(mt[\"data_alvo\"].isin(dupl_df[\"data_alvo\"])) & (mt[\"data_inferior\"].isin(dupl_df[\"data_inferior\"]))]"
   ]
  },
  {
   "cell_type": "code",
   "execution_count": null,
   "metadata": {},
   "outputs": [],
   "source": []
  }
 ],
 "metadata": {
  "kernelspec": {
   "display_name": "Kedro (itaete_buy_prop)",
   "language": "python",
   "name": "kedro_itaete_buy_prop"
  },
  "language_info": {
   "codemirror_mode": {
    "name": "ipython",
    "version": 3
   },
   "file_extension": ".py",
   "mimetype": "text/x-python",
   "name": "python",
   "nbconvert_exporter": "python",
   "pygments_lexer": "ipython3",
   "version": "3.10.12"
  },
  "orig_nbformat": 4
 },
 "nbformat": 4,
 "nbformat_minor": 2
}
