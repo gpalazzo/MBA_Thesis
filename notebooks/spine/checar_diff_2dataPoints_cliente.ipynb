{
 "cells": [
  {
   "cell_type": "code",
   "execution_count": 1,
   "metadata": {},
   "outputs": [
    {
     "name": "stdout",
     "output_type": "stream",
     "text": [
      "2023-07-22 15:39:58,052 - kedro.extras.extensions.ipython - INFO - No path argument was provided. Using: /Users/gpalazzo/Desktop/dev/mba_Otavio\n",
      "2023-07-22 15:39:58,353 - kedro.framework.session.store - INFO - `read()` not implemented for `BaseSessionStore`. Assuming empty store.\n",
      "2023-07-22 15:39:58,460 - kedro.extras.extensions.ipython - INFO - ** Kedro project itaete_buy_prop\n",
      "2023-07-22 15:39:58,461 - kedro.extras.extensions.ipython - INFO - Defined global variable `context`, `session`, `catalog` and `pipelines`\n",
      "2023-07-22 15:39:58,471 - kedro.extras.extensions.ipython - INFO - Registered line magic `run_viz`\n"
     ]
    }
   ],
   "source": [
    "%reload_kedro"
   ]
  },
  {
   "cell_type": "code",
   "execution_count": 2,
   "metadata": {},
   "outputs": [
    {
     "name": "stdout",
     "output_type": "stream",
     "text": [
      "2023-07-22 15:40:11,800 - kedro.io.data_catalog - INFO - Loading data from `label_spine` (ParquetDataSet)...\n"
     ]
    }
   ],
   "source": [
    "spine = catalog.load(\"label_spine\")"
   ]
  },
  {
   "cell_type": "code",
   "execution_count": 3,
   "metadata": {},
   "outputs": [
    {
     "data": {
      "text/html": [
       "<div>\n",
       "<style scoped>\n",
       "    .dataframe tbody tr th:only-of-type {\n",
       "        vertical-align: middle;\n",
       "    }\n",
       "\n",
       "    .dataframe tbody tr th {\n",
       "        vertical-align: top;\n",
       "    }\n",
       "\n",
       "    .dataframe thead th {\n",
       "        text-align: right;\n",
       "    }\n",
       "</style>\n",
       "<table border=\"1\" class=\"dataframe\">\n",
       "  <thead>\n",
       "    <tr style=\"text-align: right;\">\n",
       "      <th></th>\n",
       "      <th>id_cliente</th>\n",
       "      <th>data_faturamento_nova</th>\n",
       "      <th>data_inferior</th>\n",
       "      <th>data_superior</th>\n",
       "      <th>label</th>\n",
       "    </tr>\n",
       "  </thead>\n",
       "  <tbody>\n",
       "    <tr>\n",
       "      <th>0</th>\n",
       "      <td>135</td>\n",
       "      <td>2017-10-25</td>\n",
       "      <td>2015-10-26</td>\n",
       "      <td>2018-10-25</td>\n",
       "      <td>compra</td>\n",
       "    </tr>\n",
       "    <tr>\n",
       "      <th>333</th>\n",
       "      <td>2082</td>\n",
       "      <td>2021-12-02</td>\n",
       "      <td>2019-12-03</td>\n",
       "      <td>2022-12-02</td>\n",
       "      <td>compra</td>\n",
       "    </tr>\n",
       "    <tr>\n",
       "      <th>334</th>\n",
       "      <td>2082</td>\n",
       "      <td>2020-07-13</td>\n",
       "      <td>2018-07-14</td>\n",
       "      <td>2021-07-13</td>\n",
       "      <td>compra</td>\n",
       "    </tr>\n",
       "    <tr>\n",
       "      <th>335</th>\n",
       "      <td>2082</td>\n",
       "      <td>2020-07-13</td>\n",
       "      <td>2018-07-14</td>\n",
       "      <td>2021-07-13</td>\n",
       "      <td>compra</td>\n",
       "    </tr>\n",
       "    <tr>\n",
       "      <th>336</th>\n",
       "      <td>2082</td>\n",
       "      <td>2022-06-15</td>\n",
       "      <td>2020-06-15</td>\n",
       "      <td>2023-06-15</td>\n",
       "      <td>compra</td>\n",
       "    </tr>\n",
       "    <tr>\n",
       "      <th>...</th>\n",
       "      <td>...</td>\n",
       "      <td>...</td>\n",
       "      <td>...</td>\n",
       "      <td>...</td>\n",
       "      <td>...</td>\n",
       "    </tr>\n",
       "    <tr>\n",
       "      <th>328</th>\n",
       "      <td>6062</td>\n",
       "      <td>2015-10-30</td>\n",
       "      <td>2013-10-30</td>\n",
       "      <td>2016-10-29</td>\n",
       "      <td>nao_compra</td>\n",
       "    </tr>\n",
       "    <tr>\n",
       "      <th>329</th>\n",
       "      <td>6062</td>\n",
       "      <td>2015-10-30</td>\n",
       "      <td>2013-10-30</td>\n",
       "      <td>2016-10-29</td>\n",
       "      <td>nao_compra</td>\n",
       "    </tr>\n",
       "    <tr>\n",
       "      <th>330</th>\n",
       "      <td>53</td>\n",
       "      <td>2015-07-22</td>\n",
       "      <td>2013-07-22</td>\n",
       "      <td>2016-07-21</td>\n",
       "      <td>nao_compra</td>\n",
       "    </tr>\n",
       "    <tr>\n",
       "      <th>331</th>\n",
       "      <td>8336</td>\n",
       "      <td>2014-07-10</td>\n",
       "      <td>2012-07-10</td>\n",
       "      <td>2015-07-10</td>\n",
       "      <td>nao_compra</td>\n",
       "    </tr>\n",
       "    <tr>\n",
       "      <th>332</th>\n",
       "      <td>7300</td>\n",
       "      <td>2019-07-09</td>\n",
       "      <td>2017-07-09</td>\n",
       "      <td>2020-07-08</td>\n",
       "      <td>nao_compra</td>\n",
       "    </tr>\n",
       "  </tbody>\n",
       "</table>\n",
       "<p>765 rows × 5 columns</p>\n",
       "</div>"
      ],
      "text/plain": [
       "     id_cliente data_faturamento_nova data_inferior data_superior       label\n",
       "0           135            2017-10-25    2015-10-26    2018-10-25      compra\n",
       "333        2082            2021-12-02    2019-12-03    2022-12-02      compra\n",
       "334        2082            2020-07-13    2018-07-14    2021-07-13      compra\n",
       "335        2082            2020-07-13    2018-07-14    2021-07-13      compra\n",
       "336        2082            2022-06-15    2020-06-15    2023-06-15      compra\n",
       "..          ...                   ...           ...           ...         ...\n",
       "328        6062            2015-10-30    2013-10-30    2016-10-29  nao_compra\n",
       "329        6062            2015-10-30    2013-10-30    2016-10-29  nao_compra\n",
       "330          53            2015-07-22    2013-07-22    2016-07-21  nao_compra\n",
       "331        8336            2014-07-10    2012-07-10    2015-07-10  nao_compra\n",
       "332        7300            2019-07-09    2017-07-09    2020-07-08  nao_compra\n",
       "\n",
       "[765 rows x 5 columns]"
      ]
     },
     "execution_count": 3,
     "metadata": {},
     "output_type": "execute_result"
    }
   ],
   "source": [
    "spine"
   ]
  },
  {
   "cell_type": "code",
   "execution_count": null,
   "metadata": {},
   "outputs": [],
   "source": []
  }
 ],
 "metadata": {
  "kernelspec": {
   "display_name": "Kedro (itaete_buy_prop)",
   "language": "python",
   "name": "kedro_itaete_buy_prop"
  },
  "language_info": {
   "codemirror_mode": {
    "name": "ipython",
    "version": 3
   },
   "file_extension": ".py",
   "mimetype": "text/x-python",
   "name": "python",
   "nbconvert_exporter": "python",
   "pygments_lexer": "ipython3",
   "version": "3.10.12"
  },
  "orig_nbformat": 4
 },
 "nbformat": 4,
 "nbformat_minor": 2
}
