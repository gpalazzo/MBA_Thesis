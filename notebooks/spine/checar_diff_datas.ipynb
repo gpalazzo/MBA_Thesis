{
 "cells": [
  {
   "cell_type": "code",
   "execution_count": 1,
   "metadata": {},
   "outputs": [
    {
     "name": "stdout",
     "output_type": "stream",
     "text": [
      "2023-07-13 22:35:07,888 - kedro.extras.extensions.ipython - INFO - No path argument was provided. Using: /Users/gpalazzo/Desktop/dev/mba_Otavio\n",
      "2023-07-13 22:35:08,207 - kedro.framework.session.store - INFO - `read()` not implemented for `BaseSessionStore`. Assuming empty store.\n",
      "2023-07-13 22:35:08,307 - kedro.extras.extensions.ipython - INFO - ** Kedro project itaete_buy_prop\n",
      "2023-07-13 22:35:08,308 - kedro.extras.extensions.ipython - INFO - Defined global variable `context`, `session`, `catalog` and `pipelines`\n",
      "2023-07-13 22:35:08,321 - kedro.extras.extensions.ipython - INFO - Registered line magic `run_viz`\n"
     ]
    }
   ],
   "source": [
    "%reload_kedro"
   ]
  },
  {
   "cell_type": "code",
   "execution_count": 2,
   "metadata": {},
   "outputs": [
    {
     "name": "stdout",
     "output_type": "stream",
     "text": [
      "2023-07-13 22:35:08,326 - kedro.io.data_catalog - INFO - Loading data from `prm_spine` (ParquetDataSet)...\n",
      "2023-07-13 22:35:08,364 - kedro.io.data_catalog - INFO - Loading data from `preprocessing_spine` (ParquetDataSet)...\n"
     ]
    }
   ],
   "source": [
    "df_prm = catalog.load(\"prm_spine\")\n",
    "df_preproc = catalog.load(\"preprocessing_spine\")"
   ]
  },
  {
   "attachments": {},
   "cell_type": "markdown",
   "metadata": {},
   "source": [
    "## Análise: data do pedido > data de faturamento"
   ]
  },
  {
   "cell_type": "code",
   "execution_count": 3,
   "metadata": {},
   "outputs": [],
   "source": [
    "dfaux = df_prm.copy()"
   ]
  },
  {
   "cell_type": "code",
   "execution_count": 7,
   "metadata": {},
   "outputs": [],
   "source": [
    "dfaux.loc[:, \"fat>ped\"] = dfaux[\"data_pedido\"] > dfaux[\"data_faturamento\"]"
   ]
  },
  {
   "cell_type": "code",
   "execution_count": 8,
   "metadata": {},
   "outputs": [],
   "source": [
    "dfaux = dfaux[dfaux[\"fat>ped\"]]"
   ]
  },
  {
   "cell_type": "code",
   "execution_count": 9,
   "metadata": {},
   "outputs": [
    {
     "name": "stderr",
     "output_type": "stream",
     "text": [
      "/var/folders/dv/bgkf3r6s72j37pb4gm7dxtrr0000gn/T/ipykernel_55412/4056077358.py:1: SettingWithCopyWarning: \n",
      "A value is trying to be set on a copy of a slice from a DataFrame.\n",
      "Try using .loc[row_indexer,col_indexer] = value instead\n",
      "\n",
      "See the caveats in the documentation: https://pandas.pydata.org/pandas-docs/stable/user_guide/indexing.html#returning-a-view-versus-a-copy\n",
      "  dfaux.loc[:, \"diff_days\"] = (dfaux[\"data_pedido\"] - dfaux[\"data_faturamento\"]).dt.days\n"
     ]
    }
   ],
   "source": [
    "dfaux.loc[:, \"diff_days\"] = (dfaux[\"data_pedido\"] - dfaux[\"data_faturamento\"]).dt.days"
   ]
  },
  {
   "cell_type": "code",
   "execution_count": 10,
   "metadata": {},
   "outputs": [
    {
     "data": {
      "text/plain": [
       "(16, 5)"
      ]
     },
     "execution_count": 10,
     "metadata": {},
     "output_type": "execute_result"
    }
   ],
   "source": [
    "# 30 é arbitrário, apenas para ver quantos dados ficariam de fora\n",
    "dfaux[dfaux[\"diff_days\"] > 30].shape"
   ]
  },
  {
   "cell_type": "code",
   "execution_count": 11,
   "metadata": {},
   "outputs": [
    {
     "data": {
      "text/plain": [
       "count     118.000000\n",
       "mean      187.415254\n",
       "std       984.026460\n",
       "min         1.000000\n",
       "25%         5.500000\n",
       "50%        16.000000\n",
       "75%        23.000000\n",
       "max      7123.000000\n",
       "Name: diff_days, dtype: float64"
      ]
     },
     "execution_count": 11,
     "metadata": {},
     "output_type": "execute_result"
    }
   ],
   "source": [
    "dfaux[\"diff_days\"].describe()"
   ]
  },
  {
   "attachments": {},
   "cell_type": "markdown",
   "metadata": {},
   "source": [
    "## Análise: quantidade de dias entre pedido e faturamento"
   ]
  },
  {
   "cell_type": "code",
   "execution_count": 12,
   "metadata": {},
   "outputs": [],
   "source": [
    "dfaux = df_preproc.copy()"
   ]
  },
  {
   "cell_type": "code",
   "execution_count": 13,
   "metadata": {},
   "outputs": [],
   "source": [
    "dfaux.loc[:, \"diff_days\"] = (dfaux[\"data_faturamento\"] - dfaux[\"data_pedido\"]).dt.days"
   ]
  },
  {
   "cell_type": "code",
   "execution_count": 14,
   "metadata": {},
   "outputs": [],
   "source": [
    "dfaux = dfaux[dfaux[\"diff_days\"].notnull()]"
   ]
  },
  {
   "cell_type": "code",
   "execution_count": 15,
   "metadata": {},
   "outputs": [
    {
     "data": {
      "text/plain": [
       "count    5646.000000\n",
       "mean       75.840241\n",
       "std        71.721822\n",
       "min       -30.000000\n",
       "25%        21.000000\n",
       "50%        58.000000\n",
       "75%       115.000000\n",
       "max       623.000000\n",
       "Name: diff_days, dtype: float64"
      ]
     },
     "execution_count": 15,
     "metadata": {},
     "output_type": "execute_result"
    }
   ],
   "source": [
    "dfaux[\"diff_days\"].describe()"
   ]
  },
  {
   "cell_type": "code",
   "execution_count": null,
   "metadata": {},
   "outputs": [],
   "source": []
  }
 ],
 "metadata": {
  "kernelspec": {
   "display_name": "mba",
   "language": "python",
   "name": "python3"
  },
  "language_info": {
   "codemirror_mode": {
    "name": "ipython",
    "version": 3
   },
   "file_extension": ".py",
   "mimetype": "text/x-python",
   "name": "python",
   "nbconvert_exporter": "python",
   "pygments_lexer": "ipython3",
   "version": "3.10.12"
  }
 },
 "nbformat": 4,
 "nbformat_minor": 2
}
