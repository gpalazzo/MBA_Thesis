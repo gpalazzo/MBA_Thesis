{
 "cells": [
  {
   "cell_type": "code",
   "execution_count": 1,
   "metadata": {},
   "outputs": [
    {
     "name": "stdout",
     "output_type": "stream",
     "text": [
      "2023-07-28 11:02:12,159 - kedro.extras.extensions.ipython - INFO - No path argument was provided. Using: /Users/gpalazzo/Desktop/dev/mba_Otavio\n",
      "2023-07-28 11:02:12,458 - kedro.framework.session.store - INFO - `read()` not implemented for `BaseSessionStore`. Assuming empty store.\n",
      "2023-07-28 11:02:12,574 - kedro.extras.extensions.ipython - INFO - ** Kedro project itaete_buy_prop\n",
      "2023-07-28 11:02:12,575 - kedro.extras.extensions.ipython - INFO - Defined global variable `context`, `session`, `catalog` and `pipelines`\n",
      "2023-07-28 11:02:12,586 - kedro.extras.extensions.ipython - INFO - Registered line magic `run_viz`\n"
     ]
    }
   ],
   "source": [
    "%reload_kedro"
   ]
  },
  {
   "cell_type": "code",
   "execution_count": 2,
   "metadata": {},
   "outputs": [
    {
     "name": "stdout",
     "output_type": "stream",
     "text": [
      "2023-07-28 11:02:22,612 - kedro.io.data_catalog - INFO - Loading data from `master_table_treino_ftes` (ParquetDataSet)...\n"
     ]
    }
   ],
   "source": [
    "df = catalog.load(\"master_table_treino_ftes\")"
   ]
  },
  {
   "cell_type": "code",
   "execution_count": 4,
   "metadata": {},
   "outputs": [
    {
     "data": {
      "text/html": [
       "<div>\n",
       "<style scoped>\n",
       "    .dataframe tbody tr th:only-of-type {\n",
       "        vertical-align: middle;\n",
       "    }\n",
       "\n",
       "    .dataframe tbody tr th {\n",
       "        vertical-align: top;\n",
       "    }\n",
       "\n",
       "    .dataframe thead th {\n",
       "        text-align: right;\n",
       "    }\n",
       "</style>\n",
       "<table border=\"1\" class=\"dataframe\">\n",
       "  <thead>\n",
       "    <tr style=\"text-align: right;\">\n",
       "      <th></th>\n",
       "      <th></th>\n",
       "      <th></th>\n",
       "      <th>tempo_medio_dias_compras</th>\n",
       "      <th>valor_total_compras</th>\n",
       "      <th>dif_dias_ultima_compra</th>\n",
       "      <th>area_ha_somadas</th>\n",
       "    </tr>\n",
       "    <tr>\n",
       "      <th>id_cliente</th>\n",
       "      <th>data_alvo</th>\n",
       "      <th>data_inferior</th>\n",
       "      <th></th>\n",
       "      <th></th>\n",
       "      <th></th>\n",
       "      <th></th>\n",
       "    </tr>\n",
       "  </thead>\n",
       "  <tbody>\n",
       "    <tr>\n",
       "      <th>116652</th>\n",
       "      <th>2022-12-19</th>\n",
       "      <th>2022-06-22</th>\n",
       "      <td>13.0</td>\n",
       "      <td>572000.0</td>\n",
       "      <td>0</td>\n",
       "      <td>40.0</td>\n",
       "    </tr>\n",
       "    <tr>\n",
       "      <th>14703</th>\n",
       "      <th>2022-11-09</th>\n",
       "      <th>2022-05-13</th>\n",
       "      <td>0.0</td>\n",
       "      <td>266513.5</td>\n",
       "      <td>0</td>\n",
       "      <td>0.0</td>\n",
       "    </tr>\n",
       "    <tr>\n",
       "      <th>34318</th>\n",
       "      <th>2023-07-11</th>\n",
       "      <th>2023-01-12</th>\n",
       "      <td>0.0</td>\n",
       "      <td>951444.0</td>\n",
       "      <td>71</td>\n",
       "      <td>40.0</td>\n",
       "    </tr>\n",
       "    <tr>\n",
       "      <th>8801</th>\n",
       "      <th>2021-03-11</th>\n",
       "      <th>2020-09-12</th>\n",
       "      <td>20.0</td>\n",
       "      <td>1008850.0</td>\n",
       "      <td>0</td>\n",
       "      <td>500.0</td>\n",
       "    </tr>\n",
       "    <tr>\n",
       "      <th>3319</th>\n",
       "      <th>2020-07-10</th>\n",
       "      <th>2020-01-12</th>\n",
       "      <td>0.5</td>\n",
       "      <td>217000.0</td>\n",
       "      <td>71</td>\n",
       "      <td>60.0</td>\n",
       "    </tr>\n",
       "  </tbody>\n",
       "</table>\n",
       "</div>"
      ],
      "text/plain": [
       "                                     tempo_medio_dias_compras  \\\n",
       "id_cliente data_alvo  data_inferior                             \n",
       "116652     2022-12-19 2022-06-22                         13.0   \n",
       "14703      2022-11-09 2022-05-13                          0.0   \n",
       "34318      2023-07-11 2023-01-12                          0.0   \n",
       "8801       2021-03-11 2020-09-12                         20.0   \n",
       "3319       2020-07-10 2020-01-12                          0.5   \n",
       "\n",
       "                                     valor_total_compras  \\\n",
       "id_cliente data_alvo  data_inferior                        \n",
       "116652     2022-12-19 2022-06-22                572000.0   \n",
       "14703      2022-11-09 2022-05-13                266513.5   \n",
       "34318      2023-07-11 2023-01-12                951444.0   \n",
       "8801       2021-03-11 2020-09-12               1008850.0   \n",
       "3319       2020-07-10 2020-01-12                217000.0   \n",
       "\n",
       "                                     dif_dias_ultima_compra  area_ha_somadas  \n",
       "id_cliente data_alvo  data_inferior                                           \n",
       "116652     2022-12-19 2022-06-22                          0             40.0  \n",
       "14703      2022-11-09 2022-05-13                          0              0.0  \n",
       "34318      2023-07-11 2023-01-12                         71             40.0  \n",
       "8801       2021-03-11 2020-09-12                          0            500.0  \n",
       "3319       2020-07-10 2020-01-12                         71             60.0  "
      ]
     },
     "execution_count": 4,
     "metadata": {},
     "output_type": "execute_result"
    }
   ],
   "source": [
    "df.head()"
   ]
  },
  {
   "cell_type": "code",
   "execution_count": null,
   "metadata": {},
   "outputs": [],
   "source": []
  }
 ],
 "metadata": {
  "kernelspec": {
   "display_name": "Kedro (itaete_buy_prop)",
   "language": "python",
   "name": "kedro_itaete_buy_prop"
  },
  "language_info": {
   "codemirror_mode": {
    "name": "ipython",
    "version": 3
   },
   "file_extension": ".py",
   "mimetype": "text/x-python",
   "name": "python",
   "nbconvert_exporter": "python",
   "pygments_lexer": "ipython3",
   "version": "3.10.12"
  },
  "orig_nbformat": 4
 },
 "nbformat": 4,
 "nbformat_minor": 2
}
